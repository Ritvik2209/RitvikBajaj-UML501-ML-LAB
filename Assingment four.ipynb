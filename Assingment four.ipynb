{
 "cells": [
  {
   "metadata": {
    "ExecuteTime": {
     "end_time": "2025-09-03T06:00:35.003085Z",
     "start_time": "2025-09-03T05:59:14.054674Z"
    }
   },
   "cell_type": "code",
   "source": [
    "import requests\n",
    "from bs4 import BeautifulSoup\n",
    "import pandas as pd\n",
    "\n",
    "# Base URL\n",
    "BASE_URL = \"https://books.toscrape.com/catalogue/page-{}.html\"\n",
    "\n",
    "# Data storage\n",
    "books_data = []\n",
    "\n",
    "# Loop through all 50 pages\n",
    "for page in range(1, 51):\n",
    "    url = BASE_URL.format(page)\n",
    "    response = requests.get(url)\n",
    "\n",
    "    # If page does not exist, stop scraping\n",
    "    if response.status_code != 200:\n",
    "        break\n",
    "\n",
    "    soup = BeautifulSoup(response.text, \"html.parser\")\n",
    "\n",
    "    # Find all book containers\n",
    "    books = soup.find_all(\"article\", class_=\"product_pod\")\n",
    "\n",
    "    for book in books:\n",
    "        # Title\n",
    "        title = book.h3.a[\"title\"]\n",
    "\n",
    "        # Price\n",
    "        price = book.find(\"p\", class_=\"price_color\").text.strip()\n",
    "\n",
    "        # Availability\n",
    "        availability = book.find(\"p\", class_=\"instock availability\").text.strip()\n",
    "\n",
    "        # Star Rating (class has \"star-rating Three\", etc.)\n",
    "        star_class = book.find(\"p\")[\"class\"]\n",
    "        star_rating = star_class[1] if len(star_class) > 1 else \"No Rating\"\n",
    "\n",
    "        books_data.append([title, price, availability, star_rating])\n",
    "\n",
    "# Convert to DataFrame\n",
    "df = pd.DataFrame(books_data, columns=[\"Title\", \"Price\", \"Availability\", \"Star Rating\"])\n",
    "\n",
    "# Save to CSV\n",
    "df.to_csv(\"books.csv\", index=False)\n",
    "\n",
    "print(\"✅ Scraping complete! Data saved to books.csv\")\n"
   ],
   "id": "50f76bc785d2ea4b",
   "outputs": [
    {
     "name": "stdout",
     "output_type": "stream",
     "text": [
      "✅ Scraping complete! Data saved to books.csv\n"
     ]
    }
   ],
   "execution_count": 1
  },
  {
   "metadata": {
    "ExecuteTime": {
     "end_time": "2025-09-03T06:32:49.743982Z",
     "start_time": "2025-09-03T06:32:48.694317Z"
    }
   },
   "cell_type": "code",
   "source": [
    "# Install required packages (run once in Jupyter)\n",
    "# !pip install selenium pandas webdriver-manager\n",
    "\n",
    "import time\n",
    "import pandas as pd\n",
    "from selenium import webdriver\n",
    "from selenium.webdriver.common.by import By\n",
    "from selenium.webdriver.firefox.service import Service\n",
    "from webdriver_manager.firefox import GeckoDriverManager\n",
    "from selenium.webdriver.firefox.options import Options\n",
    "\n",
    "# --- Step 1: Setup Selenium WebDriver (Firefox) ---\n",
    "options = Options()\n",
    "options.add_argument(\"--headless\")  # Run without opening browser window\n",
    "\n",
    "driver = webdriver.Firefox(service=Service(GeckoDriverManager().install()), options=options)\n",
    "\n",
    "# --- Step 2: Open IMDb Top 250 Movies page ---\n",
    "url = \"https://www.imdb.com/chart/top/\"\n",
    "driver.get(url)\n",
    "time.sleep(3)\n",
    "\n",
    "# --- Step 3: Extract Movie Data ---\n",
    "movies = driver.find_elements(By.CSS_SELECTOR, \"li.ipc-metadata-list-summary-item\")\n",
    "\n",
    "data = []\n",
    "for movie in movies:\n",
    "    # Rank\n",
    "    rank = movie.find_element(By.CSS_SELECTOR, \".ipc-title__text\").text.split('.')[0]\n",
    "\n",
    "    # Title\n",
    "    title = movie.find_element(By.CSS_SELECTOR, \"h3\").text\n",
    "\n",
    "    # Year\n",
    "    year = movie.find_element(By.CSS_SELECTOR, \".cli-title-metadata-item\").text\n",
    "\n",
    "    # Rating\n",
    "    rating = movie.find_element(By.CSS_SELECTOR, \"span.ipc-rating-star--rating\").text\n",
    "\n",
    "    data.append([int(rank), title, year, float(rating)])\n",
    "\n",
    "# --- Step 4: Store in Pandas DataFrame ---\n",
    "df = pd.DataFrame(data, columns=[\"Rank\", \"Title\", \"Year\", \"IMDB Rating\"])\n",
    "\n",
    "# --- Step 5: Save to CSV ---\n",
    "df.to_csv(\"imdb_top250.csv\", index=False)\n",
    "\n",
    "driver.quit()\n",
    "print(\"Scraping complete! Data saved as imdb_top250.csv\")\n",
    "df.head()\n"
   ],
   "id": "79d4e588588b40d6",
   "outputs": [
    {
     "ename": "ValueError",
     "evalue": "response body:\n{\"message\":\"API rate limit exceeded for 112.196.126.3. (But here's the good news: Authenticated requests get a higher rate limit. Check out the documentation for more details.)\",\"documentation_url\":\"https://docs.github.com/rest/overview/resources-in-the-rest-api#rate-limiting\"}\n\nrequest url:\nhttps://api.github.com/repos/mozilla/geckodriver/releases/latest\nresponse headers:\n{'Date': 'Wed, 03 Sep 2025 06:32:49 GMT', 'Server': 'Varnish', 'Strict-Transport-Security': 'max-age=31536000; includeSubdomains; preload', 'X-Content-Type-Options': 'nosniff', 'X-Frame-Options': 'deny', 'X-XSS-Protection': '1; mode=block', 'Content-Security-Policy': \"default-src 'none'; style-src 'unsafe-inline'\", 'Access-Control-Allow-Origin': '*', 'Access-Control-Expose-Headers': 'ETag, Link, Location, Retry-After, X-GitHub-OTP, X-RateLimit-Limit, X-RateLimit-Remaining, X-RateLimit-Reset, X-RateLimit-Used, X-RateLimit-Resource, X-OAuth-Scopes, X-Accepted-OAuth-Scopes, X-Poll-Interval, X-GitHub-Media-Type, Deprecation, Sunset', 'Content-Type': 'application/json; charset=utf-8', 'Referrer-Policy': 'origin-when-cross-origin, strict-origin-when-cross-origin', 'X-GitHub-Media-Type': 'github.v3; format=json', 'X-RateLimit-Limit': '60', 'X-RateLimit-Remaining': '0', 'X-RateLimit-Reset': '1756881457', 'X-RateLimit-Resource': 'core', 'X-RateLimit-Used': '60', 'Content-Length': '279', 'X-GitHub-Request-Id': 'D248:316DBB:2E6051:3AFC6F:68B7E111'}\n",
     "output_type": "error",
     "traceback": [
      "\u001B[31m---------------------------------------------------------------------------\u001B[39m",
      "\u001B[31mValueError\u001B[39m                                Traceback (most recent call last)",
      "\u001B[36mCell\u001B[39m\u001B[36m \u001B[39m\u001B[32mIn[16]\u001B[39m\u001B[32m, line 16\u001B[39m\n\u001B[32m     13\u001B[39m options = Options()\n\u001B[32m     14\u001B[39m options.add_argument(\u001B[33m\"\u001B[39m\u001B[33m--headless\u001B[39m\u001B[33m\"\u001B[39m)  \u001B[38;5;66;03m# Run without opening browser window\u001B[39;00m\n\u001B[32m---> \u001B[39m\u001B[32m16\u001B[39m driver = webdriver.Firefox(service=Service(\u001B[43mGeckoDriverManager\u001B[49m\u001B[43m(\u001B[49m\u001B[43m)\u001B[49m\u001B[43m.\u001B[49m\u001B[43minstall\u001B[49m\u001B[43m(\u001B[49m\u001B[43m)\u001B[49m), options=options)\n\u001B[32m     18\u001B[39m \u001B[38;5;66;03m# --- Step 2: Open IMDb Top 250 Movies page ---\u001B[39;00m\n\u001B[32m     19\u001B[39m url = \u001B[33m\"\u001B[39m\u001B[33mhttps://www.imdb.com/chart/top/\u001B[39m\u001B[33m\"\u001B[39m\n",
      "\u001B[36mFile \u001B[39m\u001B[32m~\\PycharmProjects\\PythonProject\\.venv\\Lib\\site-packages\\webdriver_manager\\firefox.py:39\u001B[39m, in \u001B[36mGeckoDriverManager.install\u001B[39m\u001B[34m(self)\u001B[39m\n\u001B[32m     38\u001B[39m \u001B[38;5;28;01mdef\u001B[39;00m\u001B[38;5;250m \u001B[39m\u001B[34minstall\u001B[39m(\u001B[38;5;28mself\u001B[39m) -> \u001B[38;5;28mstr\u001B[39m:\n\u001B[32m---> \u001B[39m\u001B[32m39\u001B[39m     driver_path = \u001B[38;5;28;43mself\u001B[39;49m\u001B[43m.\u001B[49m\u001B[43m_get_driver_binary_path\u001B[49m\u001B[43m(\u001B[49m\u001B[38;5;28;43mself\u001B[39;49m\u001B[43m.\u001B[49m\u001B[43mdriver\u001B[49m\u001B[43m)\u001B[49m\n\u001B[32m     40\u001B[39m     os.chmod(driver_path, \u001B[32m0o755\u001B[39m)\n\u001B[32m     41\u001B[39m     \u001B[38;5;28;01mreturn\u001B[39;00m driver_path\n",
      "\u001B[36mFile \u001B[39m\u001B[32m~\\PycharmProjects\\PythonProject\\.venv\\Lib\\site-packages\\webdriver_manager\\core\\manager.py:40\u001B[39m, in \u001B[36mDriverManager._get_driver_binary_path\u001B[39m\u001B[34m(self, driver)\u001B[39m\n\u001B[32m     37\u001B[39m     \u001B[38;5;28;01mreturn\u001B[39;00m binary_path\n\u001B[32m     39\u001B[39m os_type = \u001B[38;5;28mself\u001B[39m.get_os_type()\n\u001B[32m---> \u001B[39m\u001B[32m40\u001B[39m file = \u001B[38;5;28mself\u001B[39m._download_manager.download_file(\u001B[43mdriver\u001B[49m\u001B[43m.\u001B[49m\u001B[43mget_driver_download_url\u001B[49m\u001B[43m(\u001B[49m\u001B[43mos_type\u001B[49m\u001B[43m)\u001B[49m)\n\u001B[32m     41\u001B[39m binary_path = \u001B[38;5;28mself\u001B[39m._cache_manager.save_file_to_cache(driver, file)\n\u001B[32m     42\u001B[39m \u001B[38;5;28;01mreturn\u001B[39;00m binary_path\n",
      "\u001B[36mFile \u001B[39m\u001B[32m~\\PycharmProjects\\PythonProject\\.venv\\Lib\\site-packages\\webdriver_manager\\drivers\\firefox.py:37\u001B[39m, in \u001B[36mGeckoDriver.get_driver_download_url\u001B[39m\u001B[34m(self, os_type)\u001B[39m\n\u001B[32m     35\u001B[39m \u001B[38;5;28;01mdef\u001B[39;00m\u001B[38;5;250m \u001B[39m\u001B[34mget_driver_download_url\u001B[39m(\u001B[38;5;28mself\u001B[39m, os_type):\n\u001B[32m     36\u001B[39m \u001B[38;5;250m    \u001B[39m\u001B[33;03m\"\"\"Like https://github.com/mozilla/geckodriver/releases/download/v0.11.1/geckodriver-v0.11.1-linux64.tar.gz\"\"\"\u001B[39;00m\n\u001B[32m---> \u001B[39m\u001B[32m37\u001B[39m     driver_version_to_download = \u001B[38;5;28;43mself\u001B[39;49m\u001B[43m.\u001B[49m\u001B[43mget_driver_version_to_download\u001B[49m\u001B[43m(\u001B[49m\u001B[43m)\u001B[49m\n\u001B[32m     38\u001B[39m     log(\u001B[33mf\u001B[39m\u001B[33m\"\u001B[39m\u001B[33mGetting latest mozilla release info for \u001B[39m\u001B[38;5;132;01m{\u001B[39;00mdriver_version_to_download\u001B[38;5;132;01m}\u001B[39;00m\u001B[33m\"\u001B[39m)\n\u001B[32m     39\u001B[39m     resp = \u001B[38;5;28mself\u001B[39m._http_client.get(\n\u001B[32m     40\u001B[39m         url=\u001B[38;5;28mself\u001B[39m.tagged_release_url(driver_version_to_download),\n\u001B[32m     41\u001B[39m         headers=\u001B[38;5;28mself\u001B[39m.auth_header\n\u001B[32m     42\u001B[39m     )\n",
      "\u001B[36mFile \u001B[39m\u001B[32m~\\PycharmProjects\\PythonProject\\.venv\\Lib\\site-packages\\webdriver_manager\\core\\driver.py:48\u001B[39m, in \u001B[36mDriver.get_driver_version_to_download\u001B[39m\u001B[34m(self)\u001B[39m\n\u001B[32m     45\u001B[39m \u001B[38;5;28;01mif\u001B[39;00m \u001B[38;5;28mself\u001B[39m._driver_version_to_download:\n\u001B[32m     46\u001B[39m     \u001B[38;5;28;01mreturn\u001B[39;00m \u001B[38;5;28mself\u001B[39m._driver_version_to_download\n\u001B[32m---> \u001B[39m\u001B[32m48\u001B[39m \u001B[38;5;28;01mreturn\u001B[39;00m \u001B[38;5;28;43mself\u001B[39;49m\u001B[43m.\u001B[49m\u001B[43mget_latest_release_version\u001B[49m\u001B[43m(\u001B[49m\u001B[43m)\u001B[49m\n",
      "\u001B[36mFile \u001B[39m\u001B[32m~\\PycharmProjects\\PythonProject\\.venv\\Lib\\site-packages\\webdriver_manager\\drivers\\firefox.py:29\u001B[39m, in \u001B[36mGeckoDriver.get_latest_release_version\u001B[39m\u001B[34m(self)\u001B[39m\n\u001B[32m     27\u001B[39m determined_browser_version = \u001B[38;5;28mself\u001B[39m.get_browser_version_from_os()\n\u001B[32m     28\u001B[39m log(\u001B[33mf\u001B[39m\u001B[33m\"\u001B[39m\u001B[33mGet LATEST \u001B[39m\u001B[38;5;132;01m{\u001B[39;00m\u001B[38;5;28mself\u001B[39m._name\u001B[38;5;132;01m}\u001B[39;00m\u001B[33m version for \u001B[39m\u001B[38;5;132;01m{\u001B[39;00mdetermined_browser_version\u001B[38;5;132;01m}\u001B[39;00m\u001B[33m firefox\u001B[39m\u001B[33m\"\u001B[39m)\n\u001B[32m---> \u001B[39m\u001B[32m29\u001B[39m resp = \u001B[38;5;28;43mself\u001B[39;49m\u001B[43m.\u001B[49m\u001B[43m_http_client\u001B[49m\u001B[43m.\u001B[49m\u001B[43mget\u001B[49m\u001B[43m(\u001B[49m\n\u001B[32m     30\u001B[39m \u001B[43m    \u001B[49m\u001B[43murl\u001B[49m\u001B[43m=\u001B[49m\u001B[38;5;28;43mself\u001B[39;49m\u001B[43m.\u001B[49m\u001B[43mlatest_release_url\u001B[49m\u001B[43m,\u001B[49m\n\u001B[32m     31\u001B[39m \u001B[43m    \u001B[49m\u001B[43mheaders\u001B[49m\u001B[43m=\u001B[49m\u001B[38;5;28;43mself\u001B[39;49m\u001B[43m.\u001B[49m\u001B[43mauth_header\u001B[49m\n\u001B[32m     32\u001B[39m \u001B[43m\u001B[49m\u001B[43m)\u001B[49m\n\u001B[32m     33\u001B[39m \u001B[38;5;28;01mreturn\u001B[39;00m resp.json()[\u001B[33m\"\u001B[39m\u001B[33mtag_name\u001B[39m\u001B[33m\"\u001B[39m]\n",
      "\u001B[36mFile \u001B[39m\u001B[32m~\\PycharmProjects\\PythonProject\\.venv\\Lib\\site-packages\\webdriver_manager\\core\\http.py:36\u001B[39m, in \u001B[36mWDMHttpClient.get\u001B[39m\u001B[34m(self, url, **kwargs)\u001B[39m\n\u001B[32m     34\u001B[39m \u001B[38;5;28;01mexcept\u001B[39;00m exceptions.ConnectionError:\n\u001B[32m     35\u001B[39m     \u001B[38;5;28;01mraise\u001B[39;00m exceptions.ConnectionError(\u001B[33mf\u001B[39m\u001B[33m\"\u001B[39m\u001B[33mCould not reach host. Are you offline?\u001B[39m\u001B[33m\"\u001B[39m)\n\u001B[32m---> \u001B[39m\u001B[32m36\u001B[39m \u001B[38;5;28;43mself\u001B[39;49m\u001B[43m.\u001B[49m\u001B[43mvalidate_response\u001B[49m\u001B[43m(\u001B[49m\u001B[43mresp\u001B[49m\u001B[43m)\u001B[49m\n\u001B[32m     37\u001B[39m \u001B[38;5;28;01mreturn\u001B[39;00m resp\n",
      "\u001B[36mFile \u001B[39m\u001B[32m~\\PycharmProjects\\PythonProject\\.venv\\Lib\\site-packages\\webdriver_manager\\core\\http.py:19\u001B[39m, in \u001B[36mHttpClient.validate_response\u001B[39m\u001B[34m(resp)\u001B[39m\n\u001B[32m     17\u001B[39m     \u001B[38;5;28;01mraise\u001B[39;00m \u001B[38;5;167;01mValueError\u001B[39;00m(\u001B[33mf\u001B[39m\u001B[33m\"\u001B[39m\u001B[33mAPI Rate limit exceeded. You have to add GH_TOKEN!!!\u001B[39m\u001B[33m\"\u001B[39m)\n\u001B[32m     18\u001B[39m \u001B[38;5;28;01melif\u001B[39;00m resp.status_code != \u001B[32m200\u001B[39m:\n\u001B[32m---> \u001B[39m\u001B[32m19\u001B[39m     \u001B[38;5;28;01mraise\u001B[39;00m \u001B[38;5;167;01mValueError\u001B[39;00m(\n\u001B[32m     20\u001B[39m         \u001B[33mf\u001B[39m\u001B[33m\"\u001B[39m\u001B[33mresponse body:\u001B[39m\u001B[38;5;130;01m\\n\u001B[39;00m\u001B[38;5;132;01m{\u001B[39;00mresp.text\u001B[38;5;132;01m}\u001B[39;00m\u001B[38;5;130;01m\\n\u001B[39;00m\u001B[33m\"\u001B[39m\n\u001B[32m     21\u001B[39m         \u001B[33mf\u001B[39m\u001B[33m\"\u001B[39m\u001B[33mrequest url:\u001B[39m\u001B[38;5;130;01m\\n\u001B[39;00m\u001B[38;5;132;01m{\u001B[39;00mresp.request.url\u001B[38;5;132;01m}\u001B[39;00m\u001B[38;5;130;01m\\n\u001B[39;00m\u001B[33m\"\u001B[39m\n\u001B[32m     22\u001B[39m         \u001B[33mf\u001B[39m\u001B[33m\"\u001B[39m\u001B[33mresponse headers:\u001B[39m\u001B[38;5;130;01m\\n\u001B[39;00m\u001B[38;5;132;01m{\u001B[39;00m\u001B[38;5;28mdict\u001B[39m(resp.headers)\u001B[38;5;132;01m}\u001B[39;00m\u001B[38;5;130;01m\\n\u001B[39;00m\u001B[33m\"\u001B[39m\n\u001B[32m     23\u001B[39m     )\n",
      "\u001B[31mValueError\u001B[39m: response body:\n{\"message\":\"API rate limit exceeded for 112.196.126.3. (But here's the good news: Authenticated requests get a higher rate limit. Check out the documentation for more details.)\",\"documentation_url\":\"https://docs.github.com/rest/overview/resources-in-the-rest-api#rate-limiting\"}\n\nrequest url:\nhttps://api.github.com/repos/mozilla/geckodriver/releases/latest\nresponse headers:\n{'Date': 'Wed, 03 Sep 2025 06:32:49 GMT', 'Server': 'Varnish', 'Strict-Transport-Security': 'max-age=31536000; includeSubdomains; preload', 'X-Content-Type-Options': 'nosniff', 'X-Frame-Options': 'deny', 'X-XSS-Protection': '1; mode=block', 'Content-Security-Policy': \"default-src 'none'; style-src 'unsafe-inline'\", 'Access-Control-Allow-Origin': '*', 'Access-Control-Expose-Headers': 'ETag, Link, Location, Retry-After, X-GitHub-OTP, X-RateLimit-Limit, X-RateLimit-Remaining, X-RateLimit-Reset, X-RateLimit-Used, X-RateLimit-Resource, X-OAuth-Scopes, X-Accepted-OAuth-Scopes, X-Poll-Interval, X-GitHub-Media-Type, Deprecation, Sunset', 'Content-Type': 'application/json; charset=utf-8', 'Referrer-Policy': 'origin-when-cross-origin, strict-origin-when-cross-origin', 'X-GitHub-Media-Type': 'github.v3; format=json', 'X-RateLimit-Limit': '60', 'X-RateLimit-Remaining': '0', 'X-RateLimit-Reset': '1756881457', 'X-RateLimit-Resource': 'core', 'X-RateLimit-Used': '60', 'Content-Length': '279', 'X-GitHub-Request-Id': 'D248:316DBB:2E6051:3AFC6F:68B7E111'}\n"
     ]
    }
   ],
   "execution_count": 16
  },
  {
   "metadata": {
    "ExecuteTime": {
     "end_time": "2025-09-03T06:24:46.284323Z",
     "start_time": "2025-09-03T06:24:46.061956Z"
    }
   },
   "cell_type": "code",
   "source": [
    "\n",
    "import requests\n",
    "from bs4 import BeautifulSoup\n",
    "import pandas as pd\n",
    "import re\n",
    "\n",
    "URL = \"https://www.timeanddate.com/weather/\"\n",
    "HEADERS = {\"User-Agent\": \"Mozilla/5.0 (Windows NT 10.0; Win64; x64)\"}\n",
    "\n",
    "resp = requests.get(URL, headers=HEADERS, timeout=15)\n",
    "resp.raise_for_status()\n",
    "\n",
    "soup = BeautifulSoup(resp.text, \"html.parser\")\n",
    "\n",
    "# Pick the first <table> that contains a degree symbol — likely the weather table\n",
    "table = next((t for t in soup.find_all(\"table\") if \"°\" in t.get_text()), None)\n",
    "if table is None:\n",
    "    raise SystemExit(\"Could not find the weather table. Page layout may have changed.\")\n",
    "\n",
    "rows = table.find_all(\"tr\")\n",
    "\n",
    "records = []\n",
    "for tr in rows:\n",
    "    text = tr.get_text(\" \", strip=True)\n",
    "    if \"°\" not in text:           # skip non-weather rows\n",
    "        continue\n",
    "\n",
    "    # City: first <a> text in the row (fallback to first cell text)\n",
    "    a = tr.find(\"a\")\n",
    "    city = a.get_text(strip=True) if a else (tr.find(\"td\").get_text(strip=True) if tr.find(\"td\") else \"\")\n",
    "\n",
    "    # Temperature: find e.g. 24 °C or 24°C\n",
    "    temp_match = re.search(r\"(-?\\d+)\\s*°\\s*([CF])\", text, flags=re.I)\n",
    "    temperature = f\"{temp_match.group(1)} °{temp_match.group(2).upper()}\" if temp_match else \"\"\n",
    "\n",
    "    # Condition: prefer icon alt text, else look for common words\n",
    "    img = tr.find(\"img\", alt=True)\n",
    "    if img and img[\"alt\"].strip():\n",
    "        condition = img[\"alt\"].strip()\n",
    "    else:\n",
    "        cond_match = re.search(r\"\\b(Clear|Cloudy|Sunny|Rain|Showers|Snow|Mist|Fog|Overcast|Thunder|Windy)\\b\", text, flags=re.I)\n",
    "        condition = cond_match.group(0) if cond_match else \"\"\n",
    "\n",
    "    records.append({\"City Name\": city, \"Temperature\": temperature, \"Weather Condition\": condition})\n",
    "\n",
    "df = pd.DataFrame(records)\n",
    "df = df[df[\"City Name\"].astype(bool)]   # drop any rows without a city name\n",
    "\n",
    "print(f\"Found {len(df)} rows. Sample:\")\n",
    "print(df.head(10).to_string(index=False))\n",
    "\n",
    "df.to_csv(\"weather.csv\", index=False)\n",
    "print(\"Saved to weather.csv\")\n"
   ],
   "id": "fb58f76d52ef1860",
   "outputs": [
    {
     "name": "stdout",
     "output_type": "stream",
     "text": [
      "Found 70 rows. Sample:\n",
      "  City Name Temperature       Weather Condition\n",
      "      Accra       24 °C   Passing clouds. Mild.\n",
      "Addis Ababa       15 °C              Fog. Cool.\n",
      "   Adelaide       17 °C                   Cool.\n",
      "    Algiers       24 °C   Passing clouds. Mild.\n",
      "     Almaty       19 °C Scattered clouds. Mild.\n",
      "      Amman       22 °C Scattered clouds. Mild.\n",
      "  Amsterdam       17 °C   Passing clouds. Mild.\n",
      "     Anadyr       11 °C     Partly sunny. Cool.\n",
      "  Anchorage       13 °C            Clear. Cool.\n",
      "     Ankara       21 °C            Sunny. Mild.\n",
      "Saved to weather.csv\n"
     ]
    }
   ],
   "execution_count": 13
  }
 ],
 "metadata": {
  "kernelspec": {
   "display_name": "Python 3",
   "language": "python",
   "name": "python3"
  },
  "language_info": {
   "codemirror_mode": {
    "name": "ipython",
    "version": 2
   },
   "file_extension": ".py",
   "mimetype": "text/x-python",
   "name": "python",
   "nbconvert_exporter": "python",
   "pygments_lexer": "ipython2",
   "version": "2.7.6"
  }
 },
 "nbformat": 4,
 "nbformat_minor": 5
}
