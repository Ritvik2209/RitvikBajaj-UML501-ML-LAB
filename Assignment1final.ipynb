{
  "nbformat": 4,
  "nbformat_minor": 0,
  "metadata": {
    "colab": {
      "provenance": []
    },
    "kernelspec": {
      "name": "python3",
      "display_name": "Python 3"
    },
    "language_info": {
      "name": "python"
    }
  },
  "cells": [
    {
      "cell_type": "code",
      "execution_count": 1,
      "metadata": {
        "colab": {
          "base_uri": "https://localhost:8080/"
        },
        "id": "kTgQR1UtTqOJ",
        "outputId": "eb4ba49b-b1de-408f-9478-69aad3bc2525"
      },
      "outputs": [
        {
          "output_type": "stream",
          "name": "stdout",
          "text": [
            "[5 4 6 3 2 1]\n"
          ]
        }
      ],
      "source": [
        "import numpy as np\n",
        "arr = np.array([1,2,3,6,4,5])\n",
        "print(np.flip(arr))"
      ]
    },
    {
      "cell_type": "code",
      "source": [
        "array1 = np.array([[1,2,3],[2,4,5],[1,2,3]])\n",
        "flattened_array = array1.flatten() # no np.flatten()\n",
        "print(flattened_array)"
      ],
      "metadata": {
        "colab": {
          "base_uri": "https://localhost:8080/"
        },
        "id": "vDuFzGIaUhjp",
        "outputId": "dee5ae92-ded2-4f05-f20c-6ca4ff90fbea"
      },
      "execution_count": 2,
      "outputs": [
        {
          "output_type": "stream",
          "name": "stdout",
          "text": [
            "[1 2 3 2 4 5 1 2 3]\n"
          ]
        }
      ]
    },
    {
      "cell_type": "code",
      "source": [
        "x = np.array([1,2,3,4,5,1,2,1,1,1])\n",
        "y = np.array([1,1,1,2,3,4,2,4,3,3])\n",
        "counts_x = np.bincount(x)\n",
        "print(np.argmax(counts_x))\n",
        "counts_y = np.bincount(y)\n",
        "print(np.argmax(counts_y))"
      ],
      "metadata": {
        "colab": {
          "base_uri": "https://localhost:8080/"
        },
        "id": "VaB50su8Un8c",
        "outputId": "7ca1c040-863f-424a-a7c6-9ef6a1741939"
      },
      "execution_count": 3,
      "outputs": [
        {
          "output_type": "stream",
          "name": "stdout",
          "text": [
            "1\n",
            "1\n"
          ]
        }
      ]
    },
    {
      "cell_type": "code",
      "source": [
        "import numpy as np\n",
        "\n",
        "gfg = np.matrix('4 1 9; 12 3 1; 4 5 6')\n",
        "total_sum = np.sum(gfg)\n",
        "print(f\"Sum of all elements: {total_sum}\")\n",
        "row_sum = np.sum(gfg,axis=1)\n",
        "print(f\"Sum of row-wise elements: {row_sum}\")\n",
        "col_sum = np.sum(gfg,axis=0)\n",
        "print(f\"Sum of column-wise elements : {col_sum}\")"
      ],
      "metadata": {
        "colab": {
          "base_uri": "https://localhost:8080/"
        },
        "id": "AWUe6-N6Uqky",
        "outputId": "0ce9552e-d654-4ba9-e6ac-24a57882aa07"
      },
      "execution_count": 4,
      "outputs": [
        {
          "output_type": "stream",
          "name": "stdout",
          "text": [
            "Sum of all elements: 45\n",
            "Sum of row-wise elements: [[14]\n",
            " [16]\n",
            " [15]]\n",
            "Sum of column-wise elements : [[20  9 16]]\n"
          ]
        }
      ]
    },
    {
      "cell_type": "code",
      "source": [
        "n_array = np.array([[55, 25, 15], [30, 44, 2], [11, 45, 77]])\n",
        "trace = np.trace(n_array)\n",
        "print(trace)\n",
        "eigenvalues, _ = np.linalg.eig(n_array)\n",
        "print(eigenvalues)\n",
        "_, eigenvectors = np.linalg.eig(n_array)\n",
        "print(eigenvectors)\n",
        "inverse = np.linalg.inv(n_array)\n",
        "print(inverse)\n",
        "det = np.linalg.det(n_array)\n",
        "print(det)"
      ],
      "metadata": {
        "colab": {
          "base_uri": "https://localhost:8080/"
        },
        "id": "ziCikY31UzlQ",
        "outputId": "3a422dbd-1840-44b8-bad7-0a2ab79977ff"
      },
      "execution_count": 5,
      "outputs": [
        {
          "output_type": "stream",
          "name": "stdout",
          "text": [
            "176\n",
            "[98.16835147 28.097044   49.73460452]\n",
            "[[ 0.4574917   0.34637121 -0.15017693]\n",
            " [ 0.28447814 -0.72784061 -0.4852124 ]\n",
            " [ 0.84248058  0.59184038  0.8614034 ]]\n",
            "[[ 0.02404141 -0.00911212 -0.00444671]\n",
            " [-0.01667882  0.02966905  0.0024785 ]\n",
            " [ 0.00631287 -0.01603732  0.01217379]]\n",
            "137180.0000000001\n"
          ]
        }
      ]
    },
    {
      "cell_type": "code",
      "source": [
        "p = np.array([[1, 2],[2, 3]])\n",
        "q = np.array([[4, 5],[6, 7]])\n",
        "C = np.dot(p,q)\n",
        "p_flat = p.flatten()\n",
        "q_flat = q.flatten()\n",
        "data = np.vstack((p_flat, q_flat))\n",
        "cov_matrix = np.cov(data)\n",
        "print(f\"cov_matrix : {cov_matrix} & matrix multiplication : {C}\")"
      ],
      "metadata": {
        "colab": {
          "base_uri": "https://localhost:8080/"
        },
        "id": "6Y4m74oZU5fy",
        "outputId": "0d24dbb5-c3b6-4ce3-a211-f2e3e0846ad6"
      },
      "execution_count": 6,
      "outputs": [
        {
          "output_type": "stream",
          "name": "stdout",
          "text": [
            "cov_matrix : [[0.66666667 1.        ]\n",
            " [1.         1.66666667]] & matrix multiplication : [[16 19]\n",
            " [26 31]]\n"
          ]
        }
      ]
    },
    {
      "cell_type": "code",
      "source": [
        "p = np.array([[1,2],[2,3],[4,5]])\n",
        "q = np.array([[4,5,1],[6,7,2]])\n",
        "C = np.dot(p,q)\n",
        "p_flat = p.flatten()\n",
        "q_flat = q.flatten()\n",
        "data = np.vstack((p_flat, q_flat))\n",
        "cov_matrix = np.cov(data)\n",
        "print(f\"cov_matrix : {cov_matrix} & matrix multiplication : {C}\")"
      ],
      "metadata": {
        "colab": {
          "base_uri": "https://localhost:8080/"
        },
        "id": "dG7Nk0YoVEtk",
        "outputId": "99eae528-50a5-4268-e18e-c69a0ca14d79"
      },
      "execution_count": 7,
      "outputs": [
        {
          "output_type": "stream",
          "name": "stdout",
          "text": [
            "cov_matrix : [[2.16666667 0.23333333]\n",
            " [0.23333333 5.36666667]] & matrix multiplication : [[16 19  5]\n",
            " [26 31  8]\n",
            " [46 55 14]]\n"
          ]
        }
      ]
    },
    {
      "cell_type": "code",
      "source": [
        "import numpy as np\n",
        "\n",
        "x = np.array([[2,3,4],[3,2,9]])\n",
        "y = np.array([[1,5,0],[5,10,3]])\n",
        "\n",
        "# Inner product (matrix multiplication) - fix with transpose on y\n",
        "res1 = np.dot(x, y.T)\n",
        "\n",
        "# Outer product (correct)\n",
        "res2 = np.outer(x.flatten(), y.flatten())\n",
        "\n",
        "# Cartesian product of all elements - flatten both before repeat/tile\n",
        "res3 = np.transpose([\n",
        "    np.repeat(x.flatten(), len(y.flatten())),\n",
        "    np.tile(y.flatten(), len(x.flatten()))\n",
        "])\n",
        "\n",
        "print(f\"Inner Product : \\n{res1}\\n\")\n",
        "print(f\"Outer Product : \\n{res2}\\n\")\n",
        "print(f\"Cartesian Product : \\n{res3}\\n\")"
      ],
      "metadata": {
        "colab": {
          "base_uri": "https://localhost:8080/"
        },
        "id": "1SaOaPI-VPuD",
        "outputId": "3f980d9c-19d5-4473-ee1c-65687f47cc97"
      },
      "execution_count": 8,
      "outputs": [
        {
          "output_type": "stream",
          "name": "stdout",
          "text": [
            "Inner Product : \n",
            "[[17 52]\n",
            " [13 62]]\n",
            "\n",
            "Outer Product : \n",
            "[[ 2 10  0 10 20  6]\n",
            " [ 3 15  0 15 30  9]\n",
            " [ 4 20  0 20 40 12]\n",
            " [ 3 15  0 15 30  9]\n",
            " [ 2 10  0 10 20  6]\n",
            " [ 9 45  0 45 90 27]]\n",
            "\n",
            "Cartesian Product : \n",
            "[[ 2  1]\n",
            " [ 2  5]\n",
            " [ 2  0]\n",
            " [ 2  5]\n",
            " [ 2 10]\n",
            " [ 2  3]\n",
            " [ 3  1]\n",
            " [ 3  5]\n",
            " [ 3  0]\n",
            " [ 3  5]\n",
            " [ 3 10]\n",
            " [ 3  3]\n",
            " [ 4  1]\n",
            " [ 4  5]\n",
            " [ 4  0]\n",
            " [ 4  5]\n",
            " [ 4 10]\n",
            " [ 4  3]\n",
            " [ 3  1]\n",
            " [ 3  5]\n",
            " [ 3  0]\n",
            " [ 3  5]\n",
            " [ 3 10]\n",
            " [ 3  3]\n",
            " [ 2  1]\n",
            " [ 2  5]\n",
            " [ 2  0]\n",
            " [ 2  5]\n",
            " [ 2 10]\n",
            " [ 2  3]\n",
            " [ 9  1]\n",
            " [ 9  5]\n",
            " [ 9  0]\n",
            " [ 9  5]\n",
            " [ 9 10]\n",
            " [ 9  3]]\n",
            "\n"
          ]
        }
      ]
    },
    {
      "cell_type": "code",
      "source": [
        "# Part (a)\n",
        "array = np.array([[1, -2, 3], [-4, 5, -6]])\n",
        "\n",
        "# (i)\n",
        "print(\"Element-wise absolute value:\\n\", np.abs(array))\n",
        "\n",
        "# (ii) Percentiles\n",
        "print(\"Flattened percentiles (25,50,75):\", [np.percentile(array.flatten(), p) for p in [25, 50, 75]])\n",
        "print(\"Column percentiles (25,50,75):\\n\", [np.percentile(array, p, axis=0) for p in [25, 50, 75]])\n",
        "print(\"Row percentiles (25,50,75):\\n\", [np.percentile(array, p, axis=1) for p in [25, 50, 75]])\n",
        "\n",
        "# (iii) Mean, Median, Std\n",
        "print(\"Flattened Mean, Median, Std:\", np.mean(array), np.median(array), np.std(array))\n",
        "print(\"Column-wise Mean, Median, Std:\\n\", np.mean(array, axis=0), np.median(array, axis=0), np.std(array, axis=0))\n",
        "print(\"Row-wise Mean, Median, Std:\\n\", np.mean(array, axis=1), np.median(array, axis=1), np.std(array, axis=1))\n",
        "\n",
        "# Part (b)\n",
        "a = np.array([-1.8, -1.6, -0.5, 0.5, 1.6, 1.8, 3.0])\n",
        "print(\"Floor:\\n\", np.floor(a))\n",
        "print(\"Ceil:\\n\", np.ceil(a))\n",
        "print(\"Truncated:\\n\", np.trunc(a))\n",
        "print(\"Rounded:\\n\", np.round(a))"
      ],
      "metadata": {
        "colab": {
          "base_uri": "https://localhost:8080/"
        },
        "id": "_695XEHtVgIv",
        "outputId": "a4633667-33eb-4930-83ba-946428dcd3cb"
      },
      "execution_count": 9,
      "outputs": [
        {
          "output_type": "stream",
          "name": "stdout",
          "text": [
            "Element-wise absolute value:\n",
            " [[1 2 3]\n",
            " [4 5 6]]\n",
            "Flattened percentiles (25,50,75): [np.float64(-3.5), np.float64(-0.5), np.float64(2.5)]\n",
            "Column percentiles (25,50,75):\n",
            " [array([-2.75, -0.25, -3.75]), array([-1.5,  1.5, -1.5]), array([-0.25,  3.25,  0.75])]\n",
            "Row percentiles (25,50,75):\n",
            " [array([-0.5, -5. ]), array([ 1., -4.]), array([2. , 0.5])]\n",
            "Flattened Mean, Median, Std: -0.5 -0.5 3.8622100754188224\n",
            "Column-wise Mean, Median, Std:\n",
            " [-1.5  1.5 -1.5] [-1.5  1.5 -1.5] [2.5 3.5 4.5]\n",
            "Row-wise Mean, Median, Std:\n",
            " [ 0.66666667 -1.66666667] [ 1. -4.] [2.05480467 4.78423336]\n",
            "Floor:\n",
            " [-2. -2. -1.  0.  1.  1.  3.]\n",
            "Ceil:\n",
            " [-1. -1. -0.  1.  2.  2.  3.]\n",
            "Truncated:\n",
            " [-1. -1. -0.  0.  1.  1.  3.]\n",
            "Rounded:\n",
            " [-2. -2. -0.  0.  2.  2.  3.]\n"
          ]
        }
      ]
    },
    {
      "cell_type": "code",
      "source": [
        "array = np.array([10, 52, 62, 16, 16, 54, 453])\n",
        "\n",
        "sorted_array = np.sort(array)\n",
        "sorted_indices = np.argsort(array)\n",
        "smallest_4 = np.partition(array, 4)[:4]\n",
        "largest_5 = np.partition(array, -5)[-5:]\n",
        "\n",
        "print(\"Sorted array:\", sorted_array)\n",
        "print(\"Indices of sorted array:\", sorted_indices)\n",
        "print(\"4 smallest elements:\", smallest_4)\n",
        "print(\"5 largest elements:\", largest_5)\n",
        "\n",
        "array_b = np.array([1.0, 1.2, 2.2, 2.0, 3.0, 2.0])\n",
        "integers_only = array_b[array_b == array_b.astype(int)]\n",
        "floats_only = array_b[array_b != array_b.astype(int)]\n",
        "\n",
        "print(\"Integer elements only:\", integers_only)\n",
        "print(\"Float elements only:\", floats_only)"
      ],
      "metadata": {
        "colab": {
          "base_uri": "https://localhost:8080/"
        },
        "id": "fwUt3Y1tViqc",
        "outputId": "00fa608a-e95e-4cdc-c878-4d827397bd05"
      },
      "execution_count": 10,
      "outputs": [
        {
          "output_type": "stream",
          "name": "stdout",
          "text": [
            "Sorted array: [ 10  16  16  52  54  62 453]\n",
            "Indices of sorted array: [0 3 4 1 5 2 6]\n",
            "4 smallest elements: [10 16 16 52]\n",
            "5 largest elements: [ 16  52  54  62 453]\n",
            "Integer elements only: [1. 2. 3. 2.]\n",
            "Float elements only: [1.2 2.2]\n"
          ]
        }
      ]
    }
  ]
}